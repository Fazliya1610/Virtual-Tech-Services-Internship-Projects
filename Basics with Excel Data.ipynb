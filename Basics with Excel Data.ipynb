{
 "cells": [
  {
   "cell_type": "code",
   "execution_count": 3,
   "id": "409539b2",
   "metadata": {},
   "outputs": [
    {
     "name": "stdout",
     "output_type": "stream",
     "text": [
      "     Student  Maths  Java  C++\n",
      "0    Boomika     85    78   82\n",
      "1    Fazliya     59    60   58\n",
      "2  Evangline     76    72   80\n",
      "3    Dharani     95    88   90\n",
      "4    Amrutha     45    52   40\n"
     ]
    }
   ],
   "source": [
    "import pandas as pd\n",
    "file_path = r'C:\\Users\\fazli\\OneDrive\\Documents\\students.csv'\n",
    "df = pd.read_csv(file_path)\n",
    "print(df)\n"
   ]
  },
  {
   "cell_type": "code",
   "execution_count": 3,
   "id": "5f3fdade",
   "metadata": {},
   "outputs": [
    {
     "name": "stdout",
     "output_type": "stream",
     "text": [
      "     Student  Maths  Java  C++\n",
      "0    Boomika     85    78   82\n",
      "1    Fazliya     59    60   58\n",
      "2  Evangline     76    72   80\n",
      "3    Dharani     95    88   90\n",
      "4    Amrutha     45    52   40\n"
     ]
    }
   ],
   "source": [
    "import pandas as pd\n",
    "file_path = \"students.xlsx\"\n",
    "df = pd.read_excel(file_path)\n",
    "print(df.head())"
   ]
  },
  {
   "cell_type": "code",
   "execution_count": 4,
   "id": "be87c604",
   "metadata": {},
   "outputs": [
    {
     "name": "stdout",
     "output_type": "stream",
     "text": [
      "     Student  Maths  Java  C++\n",
      "0    Boomika     85    78   82\n",
      "1    Fazliya     59    60   58\n",
      "2  Evangline     76    72   80\n",
      "3    Dharani     95    88   90\n",
      "4    Amrutha     45    52   40\n"
     ]
    }
   ],
   "source": [
    "print(df.tail())"
   ]
  },
  {
   "cell_type": "code",
   "execution_count": 5,
   "id": "07efa4dd",
   "metadata": {},
   "outputs": [
    {
     "name": "stdout",
     "output_type": "stream",
     "text": [
      "     Student  Maths  Java  C++\n",
      "0    Boomika     85    78   82\n",
      "1    Fazliya     59    60   58\n",
      "2  Evangline     76    72   80\n",
      "3    Dharani     95    88   90\n",
      "4    Amrutha     45    52   40\n"
     ]
    }
   ],
   "source": [
    "print(df)"
   ]
  },
  {
   "cell_type": "code",
   "execution_count": 6,
   "id": "ec2b2917",
   "metadata": {},
   "outputs": [
    {
     "name": "stdout",
     "output_type": "stream",
     "text": [
      "     Student  Maths  Java  C++\n",
      "0    Boomika     85    78   82\n",
      "1    Fazliya     59    60   58\n",
      "2  Evangline     76    72   80\n"
     ]
    }
   ],
   "source": [
    "print(df.head(3))"
   ]
  },
  {
   "cell_type": "code",
   "execution_count": 7,
   "id": "071b3ba1",
   "metadata": {},
   "outputs": [
    {
     "name": "stdout",
     "output_type": "stream",
     "text": [
      "     Student  Maths  Java  C++\n",
      "2  Evangline     76    72   80\n",
      "3    Dharani     95    88   90\n",
      "4    Amrutha     45    52   40\n"
     ]
    }
   ],
   "source": [
    "print(df.tail(3))"
   ]
  },
  {
   "cell_type": "code",
   "execution_count": 8,
   "id": "770443d8",
   "metadata": {},
   "outputs": [
    {
     "name": "stdout",
     "output_type": "stream",
     "text": [
      "          Maths       Java        C++\n",
      "count   5.00000   5.000000   5.000000\n",
      "mean   72.00000  70.000000  70.000000\n",
      "std    20.07486  14.282857  20.542639\n",
      "min    45.00000  52.000000  40.000000\n",
      "25%    59.00000  60.000000  58.000000\n",
      "50%    76.00000  72.000000  80.000000\n",
      "75%    85.00000  78.000000  82.000000\n",
      "max    95.00000  88.000000  90.000000\n"
     ]
    }
   ],
   "source": [
    "print(df.describe())"
   ]
  },
  {
   "cell_type": "code",
   "execution_count": 10,
   "id": "ada05007",
   "metadata": {},
   "outputs": [
    {
     "name": "stdout",
     "output_type": "stream",
     "text": [
      "<class 'pandas.core.frame.DataFrame'>\n",
      "RangeIndex: 5 entries, 0 to 4\n",
      "Data columns (total 4 columns):\n",
      " #   Column   Non-Null Count  Dtype \n",
      "---  ------   --------------  ----- \n",
      " 0   Student  5 non-null      object\n",
      " 1   Maths    5 non-null      int64 \n",
      " 2   Java     5 non-null      int64 \n",
      " 3   C++      5 non-null      int64 \n",
      "dtypes: int64(3), object(1)\n",
      "memory usage: 292.0+ bytes\n",
      "None\n"
     ]
    }
   ],
   "source": [
    "print(df.info())"
   ]
  },
  {
   "cell_type": "code",
   "execution_count": null,
   "id": "423963b8",
   "metadata": {},
   "outputs": [],
   "source": []
  }
 ],
 "metadata": {
  "kernelspec": {
   "display_name": "Python 3 (ipykernel)",
   "language": "python",
   "name": "python3"
  },
  "language_info": {
   "codemirror_mode": {
    "name": "ipython",
    "version": 3
   },
   "file_extension": ".py",
   "mimetype": "text/x-python",
   "name": "python",
   "nbconvert_exporter": "python",
   "pygments_lexer": "ipython3",
   "version": "3.12.1"
  }
 },
 "nbformat": 4,
 "nbformat_minor": 5
}
