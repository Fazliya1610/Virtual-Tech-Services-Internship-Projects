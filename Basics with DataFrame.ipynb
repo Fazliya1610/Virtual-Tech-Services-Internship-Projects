{
 "cells": [
  {
   "cell_type": "code",
   "execution_count": 1,
   "id": "e6ed21ac",
   "metadata": {},
   "outputs": [],
   "source": [
    "import pandas as pd"
   ]
  },
  {
   "cell_type": "code",
   "execution_count": 2,
   "id": "5c97aed1",
   "metadata": {},
   "outputs": [],
   "source": [
    "data = {\n",
    "    'Student': ['Fazliya', 'Boomika', 'Evangline', 'Dharani', 'Amrutha'],\n",
    "    'Maths': [85, 86, 87, 88, 30],\n",
    "    'Java': [72, 40, 24, 78, 90],\n",
    "    'C++': [82, 58, 80, 90, 40]\n",
    "}"
   ]
  },
  {
   "cell_type": "code",
   "execution_count": 8,
   "id": "05018682",
   "metadata": {},
   "outputs": [
    {
     "name": "stdout",
     "output_type": "stream",
     "text": [
      "     Student  Maths  Java  C++\n",
      "0    Fazliya     85    72   82\n",
      "1    Boomika     86    40   58\n",
      "2  Evangline     87    24   80\n",
      "3    Dharani     88    78   90\n",
      "4    Amrutha     30    90   40\n"
     ]
    }
   ],
   "source": [
    "df = pd.DataFrame(data)\n",
    "print(df)"
   ]
  },
  {
   "cell_type": "code",
   "execution_count": 9,
   "id": "d83dddbf",
   "metadata": {},
   "outputs": [
    {
     "name": "stdout",
     "output_type": "stream",
     "text": [
      "     Student  Maths  Java  C++  Total\n",
      "0    Fazliya     85    72   82    239\n",
      "1    Boomika     86    40   58    184\n",
      "2  Evangline     87    24   80    191\n",
      "3    Dharani     88    78   90    256\n",
      "4    Amrutha     30    90   40    160\n"
     ]
    }
   ],
   "source": [
    "df['Total'] = df[['Maths', 'Java', 'C++']].sum(axis=1)\n",
    "print(df)"
   ]
  },
  {
   "cell_type": "code",
   "execution_count": 10,
   "id": "814a15bd",
   "metadata": {},
   "outputs": [
    {
     "name": "stdout",
     "output_type": "stream",
     "text": [
      "     Student  Maths  Java  C++  Total  Maths_Pass  Java_Pass  C++_Pass   Pass\n",
      "0    Fazliya     85    72   82    239        True       True      True   True\n",
      "1    Boomika     86    40   58    184        True       True      True   True\n",
      "2  Evangline     87    24   80    191        True      False      True  False\n",
      "3    Dharani     88    78   90    256        True       True      True   True\n",
      "4    Amrutha     30    90   40    160       False       True      True  False\n"
     ]
    }
   ],
   "source": [
    "passing_threshold = 35\n",
    "df['Maths_Pass'] = df['Maths'] >= passing_threshold\n",
    "df['Java_Pass'] = df['Java'] >= passing_threshold\n",
    "df['C++_Pass'] = df['C++'] >= passing_threshold\n",
    "\n",
    "df['Pass'] = df[['Maths_Pass', 'Java_Pass', 'C++_Pass']].all(axis=1)\n",
    "print(df)"
   ]
  },
  {
   "cell_type": "code",
   "execution_count": 11,
   "id": "ffa140c3",
   "metadata": {},
   "outputs": [
    {
     "name": "stdout",
     "output_type": "stream",
     "text": [
      "     Student  Maths  Java  C++  Total  Maths_Pass  Java_Pass  C++_Pass   Pass  \\\n",
      "0    Fazliya     85    72   82    239        True       True      True   True   \n",
      "1    Boomika     86    40   58    184        True       True      True   True   \n",
      "2  Evangline     87    24   80    191        True      False      True  False   \n",
      "3    Dharani     88    78   90    256        True       True      True   True   \n",
      "4    Amrutha     30    90   40    160       False       True      True  False   \n",
      "\n",
      "     Average  \n",
      "0  79.666667  \n",
      "1  61.333333  \n",
      "2  63.666667  \n",
      "3  85.333333  \n",
      "4  53.333333  \n"
     ]
    }
   ],
   "source": [
    "df['Average'] = df[['Maths', 'Java', 'C++']].mean(axis=1)\n",
    "print(df)"
   ]
  },
  {
   "cell_type": "code",
   "execution_count": 12,
   "id": "248d5513",
   "metadata": {},
   "outputs": [
    {
     "name": "stdout",
     "output_type": "stream",
     "text": [
      "     Student  Maths  Java  C++  Total   Pass    Average\n",
      "0    Fazliya     85    72   82    239   True  79.666667\n",
      "1    Boomika     86    40   58    184   True  61.333333\n",
      "2  Evangline     87    24   80    191  False  63.666667\n",
      "3    Dharani     88    78   90    256   True  85.333333\n",
      "4    Amrutha     30    90   40    160  False  53.333333\n"
     ]
    }
   ],
   "source": [
    "df_final = df.drop(columns=['Maths_Pass', 'Java_Pass', 'C++_Pass'])\n",
    "print(df_final)"
   ]
  },
  {
   "cell_type": "code",
   "execution_count": 16,
   "id": "e7f40029",
   "metadata": {},
   "outputs": [
    {
     "data": {
      "text/html": [
       "<div>\n",
       "<style scoped>\n",
       "    .dataframe tbody tr th:only-of-type {\n",
       "        vertical-align: middle;\n",
       "    }\n",
       "\n",
       "    .dataframe tbody tr th {\n",
       "        vertical-align: top;\n",
       "    }\n",
       "\n",
       "    .dataframe thead th {\n",
       "        text-align: right;\n",
       "    }\n",
       "</style>\n",
       "<table border=\"1\" class=\"dataframe\">\n",
       "  <thead>\n",
       "    <tr style=\"text-align: right;\">\n",
       "      <th></th>\n",
       "      <th>Student</th>\n",
       "      <th>Maths</th>\n",
       "      <th>Java</th>\n",
       "      <th>C++</th>\n",
       "      <th>Total</th>\n",
       "      <th>Pass</th>\n",
       "      <th>Average</th>\n",
       "    </tr>\n",
       "  </thead>\n",
       "  <tbody>\n",
       "    <tr>\n",
       "      <th>0</th>\n",
       "      <td>False</td>\n",
       "      <td>False</td>\n",
       "      <td>False</td>\n",
       "      <td>False</td>\n",
       "      <td>False</td>\n",
       "      <td>False</td>\n",
       "      <td>False</td>\n",
       "    </tr>\n",
       "    <tr>\n",
       "      <th>1</th>\n",
       "      <td>False</td>\n",
       "      <td>False</td>\n",
       "      <td>False</td>\n",
       "      <td>False</td>\n",
       "      <td>False</td>\n",
       "      <td>False</td>\n",
       "      <td>False</td>\n",
       "    </tr>\n",
       "    <tr>\n",
       "      <th>2</th>\n",
       "      <td>False</td>\n",
       "      <td>False</td>\n",
       "      <td>False</td>\n",
       "      <td>False</td>\n",
       "      <td>False</td>\n",
       "      <td>False</td>\n",
       "      <td>False</td>\n",
       "    </tr>\n",
       "    <tr>\n",
       "      <th>3</th>\n",
       "      <td>False</td>\n",
       "      <td>False</td>\n",
       "      <td>False</td>\n",
       "      <td>False</td>\n",
       "      <td>False</td>\n",
       "      <td>False</td>\n",
       "      <td>False</td>\n",
       "    </tr>\n",
       "    <tr>\n",
       "      <th>4</th>\n",
       "      <td>False</td>\n",
       "      <td>False</td>\n",
       "      <td>False</td>\n",
       "      <td>False</td>\n",
       "      <td>False</td>\n",
       "      <td>False</td>\n",
       "      <td>False</td>\n",
       "    </tr>\n",
       "  </tbody>\n",
       "</table>\n",
       "</div>"
      ],
      "text/plain": [
       "   Student  Maths   Java    C++  Total   Pass  Average\n",
       "0    False  False  False  False  False  False    False\n",
       "1    False  False  False  False  False  False    False\n",
       "2    False  False  False  False  False  False    False\n",
       "3    False  False  False  False  False  False    False\n",
       "4    False  False  False  False  False  False    False"
      ]
     },
     "execution_count": 16,
     "metadata": {},
     "output_type": "execute_result"
    }
   ],
   "source": [
    "df_final.isnull()"
   ]
  },
  {
   "cell_type": "code",
   "execution_count": 17,
   "id": "92ca64f5",
   "metadata": {},
   "outputs": [
    {
     "data": {
      "text/plain": [
       "<bound method NDFrame.describe of      Student  Maths  Java  C++  Total   Pass    Average\n",
       "0    Fazliya     85    72   82    239   True  79.666667\n",
       "1    Boomika     86    40   58    184   True  61.333333\n",
       "2  Evangline     87    24   80    191  False  63.666667\n",
       "3    Dharani     88    78   90    256   True  85.333333\n",
       "4    Amrutha     30    90   40    160  False  53.333333>"
      ]
     },
     "execution_count": 17,
     "metadata": {},
     "output_type": "execute_result"
    }
   ],
   "source": [
    "df_final.describe"
   ]
  },
  {
   "cell_type": "code",
   "execution_count": 18,
   "id": "eb6e7ebb",
   "metadata": {},
   "outputs": [
    {
     "data": {
      "text/plain": [
       "<bound method DataFrame.info of      Student  Maths  Java  C++  Total   Pass    Average\n",
       "0    Fazliya     85    72   82    239   True  79.666667\n",
       "1    Boomika     86    40   58    184   True  61.333333\n",
       "2  Evangline     87    24   80    191  False  63.666667\n",
       "3    Dharani     88    78   90    256   True  85.333333\n",
       "4    Amrutha     30    90   40    160  False  53.333333>"
      ]
     },
     "execution_count": 18,
     "metadata": {},
     "output_type": "execute_result"
    }
   ],
   "source": [
    "df_final.info"
   ]
  },
  {
   "cell_type": "code",
   "execution_count": 19,
   "id": "967c8244",
   "metadata": {},
   "outputs": [
    {
     "data": {
      "text/plain": [
       "(5, 7)"
      ]
     },
     "execution_count": 19,
     "metadata": {},
     "output_type": "execute_result"
    }
   ],
   "source": [
    "df_final.shape"
   ]
  },
  {
   "cell_type": "code",
   "execution_count": 20,
   "id": "b8d1b849",
   "metadata": {},
   "outputs": [
    {
     "data": {
      "text/plain": [
       "0    False\n",
       "1    False\n",
       "2    False\n",
       "3    False\n",
       "4    False\n",
       "dtype: bool"
      ]
     },
     "execution_count": 20,
     "metadata": {},
     "output_type": "execute_result"
    }
   ],
   "source": [
    "df_final.duplicated()"
   ]
  },
  {
   "cell_type": "code",
   "execution_count": null,
   "id": "47e1651f",
   "metadata": {},
   "outputs": [],
   "source": []
  }
 ],
 "metadata": {
  "kernelspec": {
   "display_name": "Python 3 (ipykernel)",
   "language": "python",
   "name": "python3"
  },
  "language_info": {
   "codemirror_mode": {
    "name": "ipython",
    "version": 3
   },
   "file_extension": ".py",
   "mimetype": "text/x-python",
   "name": "python",
   "nbconvert_exporter": "python",
   "pygments_lexer": "ipython3",
   "version": "3.11.4"
  }
 },
 "nbformat": 4,
 "nbformat_minor": 5
}
